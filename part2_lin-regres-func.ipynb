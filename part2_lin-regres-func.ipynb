{
 "cells": [
  {
   "cell_type": "code",
   "execution_count": 3,
   "metadata": {},
   "outputs": [],
   "source": [
    "import numpy as np\n",
    "import matplotlib.pyplot as plt\n",
    "%matplotlib inline"
   ]
  },
  {
   "cell_type": "code",
   "execution_count": 4,
   "metadata": {},
   "outputs": [],
   "source": [
    "def linfit(xdata, ydata, yerr):\n",
    "    def U(n):\n",
    "        return(np.sum(xdata**n/yerr**2))\n",
    "    def W(n):\n",
    "        return(np.sum((ydata*xdata**n)/yerr**2))\n",
    "    \n",
    "    D = U(0)*U(2)-U(1)**2\n",
    "    slope = (U(0)*W(1)-U(1)*W(0))/D\n",
    "    intercept = (U(2)*W(0)-U(1)*W(1))/D\n",
    "    sigma_slope = (U(0)/D)**(1/2)\n",
    "    sigma_intercept = (U(2)/D)**(1/2)    \n",
    "    \n",
    "    print(\"results\")\n",
    "    print(\"slope = %.3f +/- %.3f\"%(slope, sigma_slope))\n",
    "    print(\"intecept = %.3f +/- %.3f\"%(intercept, sigma_intercept))\n",
    "    \n",
    "    return(np.array([slope, intercept, sigma_slope, sigma_intercept]))"
   ]
  },
  {
   "cell_type": "code",
   "execution_count": 5,
   "metadata": {},
   "outputs": [
    {
     "name": "stdout",
     "output_type": "stream",
     "text": [
      "results\n",
      "slope = -4.874 +/- 0.238\n",
      "intecept = -7.994 +/- 0.194\n"
     ]
    },
    {
     "data": {
      "text/plain": [
       "array([-4.87401244, -7.99446651,  0.23848825,  0.19361   ])"
      ]
     },
     "execution_count": 5,
     "metadata": {},
     "output_type": "execute_result"
    }
   ],
   "source": [
    "xdata = np.array([0., 1., 2., 3., 4., 5.])\n",
    "ydata = np.array([-8.0, -12.8, -17.7, -23.3, -27.6, -31.7])\n",
    "yerr = np.array([0.2, -0.5, -0.9, -1.6, -2.0, -2.5])\n",
    "\n",
    "linfit(xdata, ydata, yerr)"
   ]
  },
  {
   "cell_type": "code",
   "execution_count": 6,
   "metadata": {
    "scrolled": true
   },
   "outputs": [
    {
     "data": {
      "image/png": "[encoded data removed]",
      "text/plain": [
       "<Figure size 432x288 with 1 Axes>"
      ]
     },
     "metadata": {},
     "output_type": "display_data"
    }
   ],
   "source": [
    "x = np.linspace(0,8)\n",
    "fitlin = -4.874*x - 7.994\n",
    "plt.plot(x, fitlin, label='fit line')\n",
    "\n",
    "plt.plot(xdata, ydata, '.')\n",
    "plt.errorbar(xdata, ydata, yerr, 0, '.', label='data')\n",
    "\n",
    "plt.title('Linear Regression Homework Plot')\n",
    "plt.xlabel('xdata')\n",
    "plt.ylabel('ydata')\n",
    "plt.legend(loc=0)\n",
    "plt.grid()"
   ]
  },
  {
   "cell_type": "code",
   "execution_count": null,
   "metadata": {},
   "outputs": [],
   "source": []
  }
 ],
 "metadata": {
  "kernelspec": {
   "display_name": "Python 3",
   "language": "python",
   "name": "python3"
  },
  "language_info": {
   "codemirror_mode": {
    "name": "ipython",
    "version": 3
   },
   "file_extension": ".py",
   "mimetype": "text/x-python",
   "name": "python",
   "nbconvert_exporter": "python",
   "pygments_lexer": "ipython3",
   "version": "3.6.5"
  }
 },
 "nbformat": 4,
 "nbformat_minor": 2
}
